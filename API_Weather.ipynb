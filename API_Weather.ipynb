{
 "cells": [
  {
   "cell_type": "code",
   "execution_count": 2,
   "id": "ea2d2195",
   "metadata": {},
   "outputs": [],
   "source": [
    "import os\n"
   ]
  },
  {
   "cell_type": "code",
   "execution_count": 3,
   "id": "cf2b3510",
   "metadata": {},
   "outputs": [],
   "source": [
    "email_id=os.environ['my_email']\n",
    "password=os.environ['my_password']"
   ]
  },
  {
   "cell_type": "code",
   "execution_count": 4,
   "id": "a16f5c3d",
   "metadata": {},
   "outputs": [
    {
     "name": "stdout",
     "output_type": "stream",
     "text": [
      "The email id is my_email@domain.com\n",
      "The password is pass123456\n"
     ]
    }
   ],
   "source": [
    "print(\"The email id is {}\".format(email_id))\n",
    "print(\"The password is {}\".format(password))    #DEMONSTRATION OF OS.ENVIRON "
   ]
  },
  {
   "cell_type": "code",
   "execution_count": 5,
   "id": "3009d744",
   "metadata": {},
   "outputs": [],
   "source": [
    "import requests\n",
    "from datetime import datetime"
   ]
  },
  {
   "cell_type": "code",
   "execution_count": 34,
   "id": "c52fc20e",
   "metadata": {},
   "outputs": [
    {
     "name": "stdout",
     "output_type": "stream",
     "text": [
      "Enter the city name: Barnala\n",
      "---------------------------------------------------\n",
      "Weather Stats for-BARNALA | 24 Feb 2023 | 07 59 38 PM\n",
      "---------------------------------------------------\n",
      "Barnala's temperature is 19.61\n",
      "Barnala's weather is scattered clouds\n",
      "Barnala's humidity is 18%\n",
      "Barnala's wind speed is 3.11 kmph\n",
      "24 Feb 2023 | 08 02 10 PM\n"
     ]
    }
   ],
   "source": [
    "user_api=os.environ['current_weather_data']\n",
    "location=input('Enter the city name: ')\n",
    "#https://api.openweathermap.org/data/2.5/weather?q={city name}&appid={API key}\n",
    "complete_api_link='https://api.openweathermap.org/data/2.5/weather?q='+location+'&appid='+user_api\n",
    "api_link=requests.get(complete_api_link)\n",
    "api_data=api_link.json()\n",
    "\n",
    "print(\"---------------------------------------------------\")\n",
    "print(\"Weather Stats for-{} | {}\".format(location.upper(),date_time))\n",
    "print(\"---------------------------------------------------\")\n",
    "\n",
    "if api_data['cod']=='404':\n",
    "    print(\"Invalid City Name: {}. Please Check it!\".format(location))\n",
    "else:\n",
    "    temp_city=(api_data['main']['temp']-273.15)\n",
    "    print('{}\\'s temperature is {:.2f}'.format(location,temp_city))\n",
    "    weather_description=api_data['weather'][0]['description']\n",
    "    print('{}\\'s weather is {}'.format(location,weather_description))\n",
    "    humidity=api_data['main']['humidity']\n",
    "    print('{}\\'s humidity is {}%'.format(location,humidity))\n",
    "    wind_spd=api_data['wind']['speed']\n",
    "    print('{}\\'s wind speed is {} kmph'.format(location,wind_spd))\n",
    "    date_time=datetime.now().strftime('%d %b %Y | %I %M %S %p')\n",
    "    print(date_time)"
   ]
  },
  {
   "cell_type": "code",
   "execution_count": null,
   "id": "50e24225",
   "metadata": {},
   "outputs": [],
   "source": []
  }
 ],
 "metadata": {
  "kernelspec": {
   "display_name": "Python 3 (ipykernel)",
   "language": "python",
   "name": "python3"
  },
  "language_info": {
   "codemirror_mode": {
    "name": "ipython",
    "version": 3
   },
   "file_extension": ".py",
   "mimetype": "text/x-python",
   "name": "python",
   "nbconvert_exporter": "python",
   "pygments_lexer": "ipython3",
   "version": "3.9.13"
  }
 },
 "nbformat": 4,
 "nbformat_minor": 5
}
